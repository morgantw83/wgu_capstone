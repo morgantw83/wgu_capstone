{
 "cells": [
  {
   "cell_type": "markdown",
   "id": "7b1fd8d5",
   "metadata": {},
   "source": [
    "# Fifa Player analysis"
   ]
  },
  {
   "cell_type": "code",
   "execution_count": null,
   "id": "92d0f819-afe9-4757-abd6-dbdd308fe574",
   "metadata": {},
   "outputs": [],
   "source": [
    "import numpy as np\n",
    "import pandas as pd\n",
    "import matplotlib.pyplot as plt\n",
    "import seaborn as sns\n",
    "import missingno as mno\n",
    "import datetime\n",
    "import ipywidgets as widgets\n",
    "from ipywidgets import interact\n",
    "from ipywidgets import interact_manual\n",
    "import missingno as msno\n",
    "\n",
    "plt.style.use('bmh')"
   ]
  },
  {
   "cell_type": "code",
   "execution_count": null,
   "id": "4cc158fb-a4b0-4c99-87bd-fda912d5d265",
   "metadata": {},
   "outputs": [],
   "source": [
    "# read data, check execution time and display shape of data\n",
    "%time data = pd.read_csv('fifa_data.csv')\n",
    "print(data.shape)"
   ]
  },
  {
   "cell_type": "code",
   "execution_count": null,
   "id": "afc1ac0c-47da-43aa-9aa8-6fb23d5d73a9",
   "metadata": {},
   "outputs": [],
   "source": [
    "# display column headers\n",
    "data.columns"
   ]
  },
  {
   "cell_type": "markdown",
   "id": "18c2bd5b",
   "metadata": {},
   "source": [
    "# Checking for missing values"
   ]
  },
  {
   "cell_type": "code",
   "execution_count": null,
   "id": "215750f7",
   "metadata": {},
   "outputs": [],
   "source": [
    "#check for missing values \n",
    "def checking_m(df):\n",
    "    null_v = data.isnull().sum().sort_values(ascending=False)\n",
    "    null_percent = (data.isnull().sum()/data.isnull().count()).sort_values(ascending=False)\n",
    "    null_v = pd.concat([null_v, null_percent], axis=1, keys=['Missing_Number', 'Missing_Percent'])\n",
    "    return null_v\n",
    "\n",
    "checking_m(data)"
   ]
  },
  {
   "cell_type": "code",
   "execution_count": null,
   "id": "5ac89f1a",
   "metadata": {},
   "outputs": [],
   "source": [
    "# Lets plot missing values by using missingno\n",
    "msno.matrix(data,color=(0.100, 0.100, 0.100))\n",
    "# we are having lots of missing values"
   ]
  },
  {
   "cell_type": "markdown",
   "id": "50b96800",
   "metadata": {},
   "source": [
    "#\n",
    "we got some of the rows are almost empty or contain some data/values ,let's find their index and remove them .to find them we use the height and weight columns because these two columns are contain no missing values except those rows "
   ]
  },
  {
   "cell_type": "code",
   "execution_count": null,
   "id": "987fb324",
   "metadata": {},
   "outputs": [],
   "source": [
    "miss_height = data[data['Height'].isnull()].index.tolist()\n",
    "miss_weight = data[data['Weight'].isnull()].index.tolist()\n",
    "\n",
    "#check if the dataset contain the completly empty rows \n",
    "if miss_height == miss_weight:\n",
    "    print('Yes,empty rows exist')\n",
    "else:\n",
    "    print('Not found')"
   ]
  },
  {
   "cell_type": "code",
   "execution_count": null,
   "id": "79a07b85",
   "metadata": {},
   "outputs": [],
   "source": [
    "# As we have full empty rows, so we will remove them\n",
    "#lets remove them \n",
    "data.drop(data.index[miss_height],inplace=True)"
   ]
  },
  {
   "cell_type": "code",
   "execution_count": null,
   "id": "6c200992",
   "metadata": {},
   "outputs": [],
   "source": [
    "# lets check if we have any duplicate rows?\n",
    "#check for dublicated rows\n",
    "print(\"Numbers of duplicated rows :\",data.duplicated().sum())"
   ]
  },
  {
   "cell_type": "markdown",
   "id": "d60fd608",
   "metadata": {},
   "source": [
    "# Data Cleansing \n",
    "- we have some major features which need to clean properly \n",
    "- some categorical features to convert into numerical and many more "
   ]
  },
  {
   "cell_type": "code",
   "execution_count": null,
   "id": "39938e29",
   "metadata": {},
   "outputs": [],
   "source": [
    "# lets remove the unwanted columns in advance\n",
    "data.drop(['Unnamed: 0',\"ID\",'Photo','Flag','Club Logo','Real Face','Jersey Number','Loaned From','Release Clause'],\n",
    "          axis=1,inplace=True)"
   ]
  },
  {
   "cell_type": "code",
   "execution_count": null,
   "id": "c1ae4672",
   "metadata": {},
   "outputs": [],
   "source": [
    "#cleaning the value and wage col\n",
    "def m_and_k(Value):\n",
    "    if isinstance(Value,str):\n",
    "        out = Value.replace('€', '')\n",
    "        if 'M' in out:\n",
    "            out = float(out.replace('M', ''))*1000000\n",
    "        elif 'K' in Value:\n",
    "            out = float(out.replace('K', ''))*1000\n",
    "        return float(out)\n",
    "    \n",
    "data[\"Value\"]=data[\"Value\"].apply(lambda x:m_and_k(x))\n",
    "data[\"Wage\"]=data[\"Wage\"].apply(lambda x:m_and_k(x))"
   ]
  },
  {
   "cell_type": "code",
   "execution_count": null,
   "id": "5392e78f",
   "metadata": {},
   "outputs": [],
   "source": [
    "data[[\"Value\",\"Wage\"]].head(10).T"
   ]
  },
  {
   "cell_type": "code",
   "execution_count": null,
   "id": "84f097e9",
   "metadata": {},
   "outputs": [],
   "source": [
    "#clean and preprocess the Joined columns\n",
    "data[\"Joined\"]=pd.to_datetime(data[\"Joined\"])\n",
    "data[\"Joined\"]=pd.DatetimeIndex(data[\"Joined\"]).year\n",
    "data[\"Joined\"]=data[\"Joined\"].replace(np.nan,0)\n",
    "data[\"Joined\"]=data[\"Joined\"].astype(str)"
   ]
  },
  {
   "cell_type": "code",
   "execution_count": null,
   "id": "1c25f918",
   "metadata": {},
   "outputs": [],
   "source": [
    "data[\"Joined\"].head()"
   ]
  },
  {
   "cell_type": "code",
   "execution_count": null,
   "id": "54c0d660",
   "metadata": {},
   "outputs": [],
   "source": [
    "#clean and preprocess the Contract Valid Until columns\n",
    "data[\"Contract Valid Until\"]=pd.to_datetime(data[\"Contract Valid Until\"])\n",
    "data[\"Contract Valid Until\"]=pd.DatetimeIndex(data[\"Contract Valid Until\"]).year\n",
    "data[\"Contract Valid Until\"]=data[\"Contract Valid Until\"].replace(np.nan,0)\n",
    "data[\"Contract Valid Until\"]=data[\"Contract Valid Until\"].astype(str)"
   ]
  },
  {
   "cell_type": "code",
   "execution_count": null,
   "id": "66ac8c9e",
   "metadata": {},
   "outputs": [],
   "source": [
    "#clean and process the height columns \n",
    "def clean_height(val):\n",
    "    test=[]\n",
    "    value=[]\n",
    "    if isinstance(val,str):\n",
    "        test=val.split(\"'\")\n",
    "        i=test[0]\n",
    "        j=test[1]\n",
    "        value=(int(i*12)+int(j))/12\n",
    "    return(value)   \n",
    "data[\"Height\"]=data[\"Height\"].apply(clean_height) "
   ]
  },
  {
   "cell_type": "code",
   "execution_count": null,
   "id": "adeee6d6",
   "metadata": {},
   "outputs": [],
   "source": [
    "#clean and process the Weight columns \n",
    "def clean_weight(val):\n",
    "    if isinstance(val,str):\n",
    "        return(val.replace(\"lbs\",\"\"))   \n",
    "data[\"Weight\"]=data[\"Weight\"].apply(clean_weight) \n",
    "data[\"Weight\"]=data[\"Weight\"].astype(float)\n",
    "data.head()"
   ]
  },
  {
   "cell_type": "markdown",
   "id": "30cfc046",
   "metadata": {},
   "source": [
    "# Visualization"
   ]
  },
  {
   "cell_type": "code",
   "execution_count": null,
   "id": "f66b8724",
   "metadata": {},
   "outputs": [],
   "source": [
    "#top 30 contries with highset numbers of players \n",
    "y = data.Nationality.value_counts().head(30).index\n",
    "x = data.Nationality.value_counts().head(30).values\n",
    "\n",
    "# Athletes barplot with Discipline\n",
    "plt.rcParams['figure.dpi'] = 600\n",
    "\n",
    "fig = plt.figure(figsize=(2,3), facecolor='#f6f5f5')\n",
    "gs = fig.add_gridspec(1, 1)\n",
    "gs.update(wspace=1.5, hspace=0.05)\n",
    "\n",
    "background_color = \"#f6f5f5\"\n",
    "sns.set_palette(['#ff355d']*1200)\n",
    "ax0 = fig.add_subplot(gs[0, 0])\n",
    "for s in [\"right\", \"top\"]:\n",
    "    ax0.spines[s].set_visible(False)\n",
    "    \n",
    "ax0.set_facecolor(background_color)\n",
    "\n",
    "\n",
    "ax0_sns = sns.barplot(data=data,x=x,y=y,zorder=2) \n",
    "ax0_sns.set_xlabel('No of Players',fontsize=4, weight='bold')\n",
    "ax0_sns.set_ylabel('Countries',fontsize=4, weight='bold')\n",
    "\n",
    "ax0_sns.grid(which='major', axis='x', zorder=0, color='#EEEEEE', linewidth=0.4)\n",
    "ax0_sns.grid(which='major', axis='y', zorder=0, color='#EEEEEE', linewidth=0.4)\n",
    "\n",
    "\n",
    "ax0_sns.tick_params(labelsize=3, width=0.5, length=1.5)\n",
    "\n",
    "\n",
    "for p in ax0_sns.patches:\n",
    "            value = f'{p.get_width():.0f}'\n",
    "            x = p.get_x() + p.get_width() + 20\n",
    "            y = p.get_y() + p.get_height() / 2 \n",
    "            ax0.text(x, y, value, ha='left', va='center', fontsize=3, \n",
    "                    bbox=dict(facecolor='none', edgecolor='black', boxstyle='round', linewidth=0.3))\n",
    "\n",
    "plt.show()"
   ]
  },
  {
   "cell_type": "code",
   "execution_count": null,
   "id": "de2c1dfb-98d5-40a1-84c5-487f17fbe056",
   "metadata": {},
   "outputs": [],
   "source": [
    "# display first five rows of the soccer data for reference\n",
    "pd.set_option('max_columns', 89)\n",
    "data.head()"
   ]
  },
  {
   "cell_type": "code",
   "execution_count": null,
   "id": "02bfb500-cca7-450c-a900-959193ac6dc6",
   "metadata": {},
   "outputs": [],
   "source": [
    "# retrieve statistical information for each computable column\n",
    "pd.set_option('max_columns', 89)\n",
    "data.iloc[:, 2:].describe().style.background_gradient(cmap = 'cividis')\n"
   ]
  },
  {
   "cell_type": "code",
   "execution_count": null,
   "id": "9c547921-76c9-41d6-891c-9b61013ff49c",
   "metadata": {},
   "outputs": [],
   "source": [
    "# calculate descriptive statistics\n",
    "data.iloc[:, 13:].describe(include = 'object')"
   ]
  },
  {
   "cell_type": "code",
   "execution_count": null,
   "id": "eeb86469-878e-433a-a434-b30f1bec6e8d",
   "metadata": {},
   "outputs": [],
   "source": [
    "# checking and visualizing data for null values for first half\n",
    "mno.bar(data.iloc[:, :40],\n",
    "        color = 'red',\n",
    "        sort = 'ascending')\n",
    "plt.title('Checking Null Values for First Half', fontsize = 15)\n",
    "plt.show()"
   ]
  },
  {
   "cell_type": "code",
   "execution_count": null,
   "id": "f8512372-edcc-4a32-9fd0-4b630bbe7584",
   "metadata": {},
   "outputs": [],
   "source": [
    "# checking and visualizing data for null values for first half\n",
    "mno.bar(data.iloc[:, 40:],\n",
    "        color = 'blue',\n",
    "        sort = 'ascending')\n",
    "plt.title('Checking Null Values for Second Half', fontsize = 15)\n",
    "plt.show()"
   ]
  },
  {
   "cell_type": "code",
   "execution_count": null,
   "id": "e6ad26f0-f0c9-4755-9b5c-5576f0e45161",
   "metadata": {
    "_uuid": "948344dfd823f2b6caf9abed9f814ca9605f09c6"
   },
   "outputs": [],
   "source": [
    "# fill in null values\n",
    "\n",
    "data['ShortPassing'].fillna(data['ShortPassing'].mean(), inplace = True)\n",
    "data['Volleys'].fillna(data['Volleys'].mean(), inplace = True)\n",
    "data['Dribbling'].fillna(data['Dribbling'].mean(), inplace = True)\n",
    "data['Curve'].fillna(data['Curve'].mean(), inplace = True)\n",
    "data['FKAccuracy'].fillna(data['FKAccuracy'], inplace = True)\n",
    "data['LongPassing'].fillna(data['LongPassing'].mean(), inplace = True)\n",
    "data['BallControl'].fillna(data['BallControl'].mean(), inplace = True)\n",
    "data['HeadingAccuracy'].fillna(data['HeadingAccuracy'].mean(), inplace = True)\n",
    "data['Finishing'].fillna(data['Finishing'].mean(), inplace = True)\n",
    "data['Crossing'].fillna(data['Crossing'].mean(), inplace = True)\n",
    "data['Weight'].fillna('200lbs', inplace = True)\n",
    "data['Contract Valid Until'].fillna(2019, inplace = True)\n",
    "data['Height'].fillna(\"5'11\", inplace = True)\n",
    "# data['Loaned From'].fillna('None', inplace = True)\n",
    "data['Joined'].fillna('Jul 1, 2018', inplace = True)\n",
    "# data['Jersey Number'].fillna(8, inplace = True)\n",
    "data['Body Type'].fillna('Normal', inplace = True)\n",
    "data['Position'].fillna('ST', inplace = True)\n",
    "data['Club'].fillna('No Club', inplace = True)\n",
    "data['Work Rate'].fillna('Medium/ Medium', inplace = True)\n",
    "data['Skill Moves'].fillna(data['Skill Moves'].median(), inplace = True)\n",
    "data['Weak Foot'].fillna(3, inplace = True)\n",
    "data['Preferred Foot'].fillna('Right', inplace = True)\n",
    "data['International Reputation'].fillna(1, inplace = True)\n",
    "data['Wage'].fillna('€200K', inplace = True)\n",
    "data.fillna(0, inplace = True)\n",
    "\n",
    "# check for null values\n",
    "data.isnull().sum().sum()"
   ]
  },
  {
   "cell_type": "code",
   "execution_count": null,
   "id": "4e6760ba",
   "metadata": {},
   "outputs": [],
   "source": [
    "#Best in others aspect \n",
    "best_players=['Crossing', 'Finishing', 'HeadingAccuracy', 'ShortPassing', 'Volleys',\n",
    "       'Dribbling', 'Curve', 'FKAccuracy', 'LongPassing', 'BallControl',\n",
    "       'Acceleration', 'SprintSpeed', 'Agility', 'Reactions', 'Balance',\n",
    "       'ShotPower', 'Jumping', 'Stamina', 'Strength', 'LongShots',\n",
    "       'Aggression', 'Interceptions', 'Positioning', 'Vision', 'Penalties',\n",
    "       'Composure', 'Marking', 'StandingTackle', 'SlidingTackle', 'GKDiving',\n",
    "       'GKHandling', 'GKKicking', 'GKPositioning', 'GKReflexes']\n",
    "print(\"Best in others aspect :\")\n",
    "print(\"\\n<----------------------------------------------------------------->\\n\")\n",
    "for i in best_players:\n",
    "    print('Best {0}:{1} '.format(i,data.loc[data[i].idxmax()][0]))\n",
    "print(\"\\n<----------------------------------------------------------------->\\n\")   "
   ]
  },
  {
   "cell_type": "code",
   "execution_count": null,
   "id": "d7abd6bb",
   "metadata": {},
   "outputs": [],
   "source": [
    "#Most valuable and highest earners players\n",
    "print('Most valued player : '+str(data.loc[data['Value'].idxmax()][0]))\n",
    "print('Highest earner : '+str(data.loc[data['Wage'].idxmax()][0]))"
   ]
  },
  {
   "cell_type": "code",
   "execution_count": null,
   "id": "d5669cd4-c2e0-48ae-9fb4-43503e73a3f4",
   "metadata": {},
   "outputs": [],
   "source": [
    "# create features by aggregating the data\n",
    "\n",
    "def defense(data):\n",
    "    return int(round((data[['Marking', 'StandingTackle', \n",
    "                               'SlidingTackle']].mean()).mean()))\n",
    "\n",
    "def general(data):\n",
    "    return int(round((data[['HeadingAccuracy', 'Dribbling', 'Curve', \n",
    "                               'BallControl']].mean()).mean()))\n",
    "\n",
    "def mental(data):\n",
    "    return int(round((data[['Aggression', 'Interceptions', 'Positioning', \n",
    "                               'Vision','Composure']].mean()).mean()))\n",
    "\n",
    "def passing(data):\n",
    "    return int(round((data[['Crossing', 'ShortPassing', \n",
    "                               'LongPassing']].mean()).mean()))\n",
    "\n",
    "def mobility(data):\n",
    "    return int(round((data[['Acceleration', 'SprintSpeed', \n",
    "                               'Agility','Reactions']].mean()).mean()))\n",
    "def power(data):\n",
    "    return int(round((data[['Balance', 'Jumping', 'Stamina', \n",
    "                               'Strength']].mean()).mean()))\n",
    "\n",
    "def rating(data):\n",
    "    return int(round((data[['Potential', 'Overall']].mean()).mean()))\n",
    "\n",
    "def shooting(data):\n",
    "    return int(round((data[['Finishing', 'Volleys', 'FKAccuracy', \n",
    "                               'ShotPower','LongShots', 'Penalties']].mean()).mean()))\n"
   ]
  },
  {
   "cell_type": "code",
   "execution_count": null,
   "id": "8d5be34e-6173-4b02-b8a7-2de193240b36",
   "metadata": {},
   "outputs": [],
   "source": [
    "# create new categories to the data set\n",
    "\n",
    "data['Defense'] = data.apply(defense, axis = 1)\n",
    "data['General'] = data.apply(general, axis = 1)\n",
    "data['Mental'] = data.apply(mental, axis = 1)\n",
    "data['Passing'] = data.apply(passing, axis = 1)\n",
    "data['Mobility'] = data.apply(mobility, axis = 1)\n",
    "data['Power'] = data.apply(power, axis = 1)\n",
    "data['Rating'] = data.apply(rating, axis = 1)\n",
    "data['Shooting'] = data.apply(shooting, axis = 1)"
   ]
  },
  {
   "cell_type": "code",
   "execution_count": null,
   "id": "75bdfc44-e5bf-4964-a8db-25dd576a3d6a",
   "metadata": {
    "tags": []
   },
   "outputs": [],
   "source": [
    "# check if categories were added\n",
    "data.columns"
   ]
  },
  {
   "cell_type": "code",
   "execution_count": null,
   "id": "8f4ac8d5-87c5-40c8-8d95-af7c258cec05",
   "metadata": {},
   "outputs": [],
   "source": [
    "# generate distributiions of abilities\n",
    "\n",
    "\n",
    "# plt.rcParams['figure.figsize'] = (25, 10)\n",
    "# plt.subplot(2, 4, 1)\n",
    "# sns.distplot(data['defense'], color = 'red')\n",
    "# plt.grid()\n",
    "\n",
    "# plt.subplot(2, 4, 2)\n",
    "# sns.distplot(data['general'], color = 'black')\n",
    "# plt.grid()\n",
    "\n",
    "# plt.subplot(2, 4, 3)\n",
    "# sns.distplot(data['mental'], color = 'red')\n",
    "# plt.grid()\n",
    "\n",
    "# plt.subplot(2, 4, 4)\n",
    "# sns.distplot(data['passing'], color = 'black')\n",
    "# plt.grid()\n",
    "\n",
    "# plt.subplot(2, 4, 5)\n",
    "# sns.distplot(data['mobility'], color = 'red')\n",
    "# plt.grid()\n",
    "\n",
    "# plt.subplot(2, 4, 6)\n",
    "# sns.distplot(data['power'], color = 'black')\n",
    "# plt.grid()\n",
    "\n",
    "# plt.subplot(2, 4, 7)\n",
    "# sns.distplot(data['shooting'], color = 'red')\n",
    "# plt.grid()\n",
    "\n",
    "# plt.subplot(2, 4, 8)\n",
    "# sns.distplot(data['rating'], color = 'black')\n",
    "# plt.grid()\n",
    "\n",
    "# plt.suptitle('Distribution Score for Various Abilities')\n",
    "# plt.show()"
   ]
  },
  {
   "cell_type": "code",
   "execution_count": null,
   "id": "15225059",
   "metadata": {},
   "outputs": [],
   "source": []
  },
  {
   "cell_type": "code",
   "execution_count": null,
   "id": "57bdb55b-fed1-4d4e-972f-34cf1409fd7b",
   "metadata": {},
   "outputs": [],
   "source": [
    "# display dominant foot comparison\n",
    "\n",
    "plt.rcParams['figure.figsize'] = (8, 3)\n",
    "sns.countplot(data['Preferred Foot'], palette = 'pink')\n",
    "plt.title('Dominant Foot', fontsize = 20)\n",
    "plt.show()"
   ]
  },
  {
   "cell_type": "code",
   "execution_count": null,
   "id": "2310afa1",
   "metadata": {},
   "outputs": [],
   "source": []
  },
  {
   "cell_type": "code",
   "execution_count": null,
   "id": "918a689d",
   "metadata": {},
   "outputs": [],
   "source": []
  },
  {
   "cell_type": "code",
   "execution_count": null,
   "id": "72b2ea52-ec70-4316-96f5-d61b0125a85e",
   "metadata": {},
   "outputs": [],
   "source": [
    "# display international reputation ratings\n",
    "\n",
    "labels = ['1 Star', '2 Star', '3 Ster', '4 Ster', '5 Ster']  #data['International Reputation'].index\n",
    "sizes = data['International Reputation'].value_counts()\n",
    "colors = plt.cm.copper(np.linspace(0, 1, 5))\n",
    "explode = [0.1, 0.1, 0.2, 0.5, 0.9]\n",
    "\n",
    "plt.rcParams['figure.figsize'] = (9, 9)\n",
    "plt.pie(sizes, labels = labels, colors = colors, explode = explode, shadow = True,)\n",
    "plt.title('International Repuatation Rating Chart', fontsize = 20)\n",
    "plt.legend()\n",
    "plt.show()"
   ]
  },
  {
   "cell_type": "code",
   "execution_count": null,
   "id": "2690a3fc-4df9-4507-9f39-bd33a7c827c2",
   "metadata": {},
   "outputs": [],
   "source": [
    "# Players with a 5 star rating\n",
    "\n",
    "data[data['International Reputation'] == 5][['Name','Nationality',\n",
    "                            'Overall']].sort_values(by = 'Overall',\n",
    "                                        ascending = False).style.background_gradient(cmap = 'magma')"
   ]
  },
  {
   "cell_type": "code",
   "execution_count": null,
   "id": "53ff53db-6f5d-42ab-9df5-b401b4b50baf",
   "metadata": {},
   "outputs": [],
   "source": [
    "# \n",
    "\n",
    "labels = ['5 Star', '4 Star', '3 Star', '2 Star', '1 Star'] \n",
    "size = data['Weak Foot'].value_counts()\n",
    "colors = plt.cm.Wistia(np.linspace(0, 1, 5))\n",
    "explode = [0, 0, 0, 0, 0.1]\n",
    "\n",
    "plt.pie(size, labels = labels, colors = colors, explode = explode, shadow = True, startangle = 90)\n",
    "plt.title('Distribution of Players Ability to Use Non-Dominant Foot', fontsize = 25)\n",
    "plt.legend()\n",
    "plt.show()"
   ]
  },
  {
   "cell_type": "code",
   "execution_count": null,
   "id": "936943e5-4e0a-4603-97f7-fc90df79b4cd",
   "metadata": {},
   "outputs": [],
   "source": [
    "# generate chart of positions of players\n",
    "\n",
    "plt.figure(figsize = (13, 15))\n",
    "plt.style.use('fivethirtyeight')\n",
    "ax = sns.countplot(y = 'Position', data = data, palette = 'bone')\n",
    "ax.set_xlabel(xlabel = 'Count', fontsize = 16)\n",
    "ax.set_ylabel(ylabel = 'Position', fontsize = 16)\n",
    "ax.set_title(label = 'Positions and Players', fontsize = 20)\n",
    "plt.show()"
   ]
  },
  {
   "cell_type": "code",
   "execution_count": null,
   "id": "967ac951-a698-4a06-a61d-6cff0b3431a1",
   "metadata": {},
   "outputs": [],
   "source": [
    "# # defining a function for cleaning the Weight data\n",
    "\n",
    "def extract_value_from(value):\n",
    "    out = value.replace('lbs', '')\n",
    "    return float(out)\n",
    "\n",
    "# Weight Distribution of Players\n",
    "sns.distplot(data['Weight'], color = 'black')\n",
    "plt.title(\"Distribution of Players Weight (lbs)\", fontsize = 15)\n",
    "plt.show()"
   ]
  },
  {
   "cell_type": "code",
   "execution_count": null,
   "id": "750e00fa",
   "metadata": {},
   "outputs": [],
   "source": [
    "# data['Value'] = data['Value'].str.replace('€','').str.replace('M',' 1000000').str.replace('K',' 1000')\n",
    "# data['Value'] = data['Value'].str.split(' ', expand=True)[0].astype(float) * data['Value'].str.split(' ', expand=True)[1].astype(float)\n",
    "# data['Value'] = data['Value'].fillna(0).astype(np.float32)"
   ]
  },
  {
   "cell_type": "code",
   "execution_count": null,
   "id": "1ca965df",
   "metadata": {},
   "outputs": [],
   "source": [
    "data.head()"
   ]
  },
  {
   "cell_type": "code",
   "execution_count": null,
   "id": "c51385d9-2b93-43e4-8edd-ffddb8f2e4c2",
   "metadata": {},
   "outputs": [],
   "source": [
    "# function to clean data for wages\n",
    "\n",
    "# def extract_value_from(column):\n",
    "#     out = column.replace('€', '')\n",
    "#     if 'M' in out:\n",
    "#         out = float(out.replace('M', ''))*1000000\n",
    "#     elif 'K' in column:\n",
    "#         out = float(out.replace('K', ''))*1000\n",
    "#     return float(out)\n",
    "\n",
    "# generate data\n",
    "# plt.rcParams['figure.figsize'] = (16, 5)\n",
    "# plt.subplot(1, 2, 1)\n",
    "# sns.distplot(data['Value'], color = 'violet')\n",
    "# plt.title('Distribution of Value of the Players (€)', fontsize = 15)\n",
    "\n",
    "# plt.subplot(1, 2, 2)\n",
    "# sns.distplot(data['Wage'], color = 'purple')\n",
    "# plt.title('Distribution of Wages of the Players (€)', fontsize = 15)\n",
    "# plt.show()"
   ]
  },
  {
   "cell_type": "code",
   "execution_count": null,
   "id": "61c261ce-d43f-4dfa-87a5-d0a3ca92107a",
   "metadata": {},
   "outputs": [],
   "source": [
    "# amount of skill moves for players\n",
    "\n",
    "plt.figure(figsize = (10, 6))\n",
    "ax = sns.countplot(x = 'Skill Moves', data = data, palette = 'pastel')\n",
    "ax.set_title(label = 'Count for Number of Skill Moves for Player', fontsize = 20)\n",
    "ax.set_xlabel(xlabel = '# of Skill Moves', fontsize = 16)\n",
    "ax.set_ylabel(ylabel = 'Count', fontsize = 16)\n",
    "plt.show()"
   ]
  },
  {
   "cell_type": "code",
   "execution_count": null,
   "id": "ecfe128c-14a2-4323-a6c6-35d00c2a7f1d",
   "metadata": {},
   "outputs": [],
   "source": [
    "# generate work rates (offense/defense)\n",
    "\n",
    "plt.figure(figsize = (15, 5))\n",
    "plt.style.use('fivethirtyeight')\n",
    "\n",
    "sns.countplot(x = 'Work Rate', data = data, palette = 'hls')\n",
    "plt.title('Player Work Rates (Offense/Defense)', fontsize = 20)\n",
    "plt.xlabel('Work Rate', fontsize = 16)\n",
    "plt.ylabel('Players', fontsize = 16)\n",
    "plt.xticks(rotation = 90)\n",
    "plt.show()"
   ]
  },
  {
   "cell_type": "code",
   "execution_count": null,
   "id": "f540aa83-2871-4051-a91e-a8e0e19ac790",
   "metadata": {},
   "outputs": [],
   "source": [
    "# Overall and Potential Scores of Players\n",
    "\n",
    "plt.figure(figsize=(16, 4))\n",
    "plt.style.use('seaborn-paper')\n",
    "\n",
    "plt.subplot(1, 2, 1)\n",
    "x = data.Potential\n",
    "ax = sns.distplot(x, bins = 58, kde = False, color = 'y')\n",
    "ax.set_xlabel(xlabel = \"Potential Scores\", fontsize = 10)\n",
    "ax.set_ylabel(ylabel = 'Number of players', fontsize = 10)\n",
    "ax.set_title(label = 'Potential Score of Players', fontsize = 15)\n",
    "\n",
    "plt.subplot(1, 2, 2)\n",
    "y = data.Overall\n",
    "ax = sns.distplot(y, bins = 58, kde = False, color = 'y')\n",
    "ax.set_xlabel(xlabel = \"Overall Scores\", fontsize = 10)\n",
    "ax.set_ylabel(ylabel = 'Number of players', fontsize = 10)\n",
    "ax.set_title(label = 'Overall Score of Players', fontsize = 15)\n",
    "plt.show()"
   ]
  },
  {
   "cell_type": "code",
   "execution_count": null,
   "id": "0d29b37b-02cf-4c10-a961-48ea20c8019d",
   "metadata": {},
   "outputs": [],
   "source": [
    "# Violin plat of Overall scores in relation to age\n",
    "\n",
    "plt.rcParams['figure.figsize'] = (20, 7)\n",
    "plt.style.use('seaborn-dark-palette')\n",
    "\n",
    "sns.boxplot(data['Overall'], data['Age'])\n",
    "plt.title('Comparison of Overall Scores in Relation to Age', fontsize = 20)\n",
    "plt.show()"
   ]
  },
  {
   "cell_type": "code",
   "execution_count": null,
   "id": "35824b23-5ec9-4e53-9e13-0a92dfc94e84",
   "metadata": {},
   "outputs": [],
   "source": [
    "# countries with the most players\n",
    "\n",
    "data['Nationality'].value_counts().head(10).plot(kind = 'pie', cmap = 'inferno',\n",
    "                                        startangle = 90, explode = [0, 0, 0, 0, 0, 0, 0, 0, 0.1, 0])\n",
    "plt.title('Countries with the most players', fontsize = 15)\n",
    "plt.axis('off')\n",
    "plt.show()"
   ]
  },
  {
   "cell_type": "code",
   "execution_count": null,
   "id": "f1ccbd25-1bb2-4d0d-b6b9-0e63a9a6ac69",
   "metadata": {},
   "outputs": [],
   "source": [
    "some_countries = ('England', 'Germany', 'Spain', 'Argentina', 'France', 'Brazil', 'Italy', 'Columbia', 'Japan', 'Netherlands')\n",
    "data_countries = data.loc[data['Nationality'].isin(some_countries) & data['Overall']]\n",
    "\n",
    "plt.rcParams['figure.figsize'] = (15, 7)\n",
    "ax = sns.barplot(x = data_countries['Nationality'], y = data_countries['Overall'], palette = 'spring')\n",
    "ax.set_xlabel(xlabel = 'Countries', fontsize = 9)\n",
    "ax.set_ylabel(ylabel = 'Overall Scores', fontsize = 9)\n",
    "ax.set_title(label = 'Overall Score of Players from Countries With the Highest Amount of Players', fontsize = 20)\n",
    "plt.show()"
   ]
  },
  {
   "cell_type": "code",
   "execution_count": null,
   "id": "47520ca3-adbd-46a3-be87-3d8d55f650a0",
   "metadata": {},
   "outputs": [],
   "source": [
    "# overall scores of the most popular clubs\n",
    "\n",
    "clubs = ('CD Leganés', 'Southampton', 'RC Celta', 'Empoli', 'Fortuna Düsseldorf', 'Manchestar City',\n",
    "             'Tottenham Hotspur', 'FC Barcelona', 'Valencia CF', 'Chelsea', 'Real Madrid')\n",
    "\n",
    "data_clubs = data.loc[data['Club'].isin(clubs) & data['Overall']]\n",
    "\n",
    "plt.rcParams['figure.figsize'] = (15, 8)\n",
    "ax = sns.boxplot(x = data_clubs['Club'], y = data_clubs['Overall'], palette = 'inferno')\n",
    "ax.set_xlabel(xlabel = 'Popular Clubs', fontsize = 9)\n",
    "ax.set_ylabel(ylabel = 'Overall Score', fontsize = 9)\n",
    "ax.set_title(label = 'Overall Score of Popular Clubs', fontsize = 20)\n",
    "plt.xticks(rotation = 90)\n",
    "plt.grid()\n",
    "plt.show()"
   ]
  },
  {
   "cell_type": "code",
   "execution_count": null,
   "id": "135e790e-6df0-48d1-aace-5a384815e4aa",
   "metadata": {},
   "outputs": [],
   "source": [
    "# best players showing position, age, club, nationality based on overall scores\n",
    "\n",
    "data.iloc[data.groupby(data['Position'])['Overall'].idxmax()][['Position', 'Name', 'Age', 'Club',\n",
    "                             'Nationality','Overall']].sort_values(by = 'Overall',\n",
    "                                        ascending = False).style.background_gradient(cmap = 'pink')"
   ]
  },
  {
   "cell_type": "code",
   "execution_count": null,
   "id": "9eea895e-3f2b-41a3-8556-0ddb06845da8",
   "metadata": {},
   "outputs": [],
   "source": [
    "# Top players for each type of skill\n",
    "data1 = data.copy()\n",
    "@interact\n",
    "def skill(skills = [ 'General', 'Mental', 'Passing', \n",
    "                       'Mobility', 'Power', 'Rating','Shooting'], score = 75):\n",
    "    return data1[data1[skills] > score][['Name', 'Nationality', 'Club', 'Overall', skills]].sort_values(by = skills,\n",
    "                                    ascending = False).head(20).style.background_gradient(cmap = 'Blues')"
   ]
  },
  {
   "cell_type": "code",
   "execution_count": null,
   "id": "57fe84e5-0039-416a-bfae-e30aa45b4e59",
   "metadata": {},
   "outputs": [],
   "source": [
    "# Top 15 players from each country\n",
    "\n",
    "@interact\n",
    "def country(country = list(data1['Nationality'].value_counts().index)):\n",
    "    return data1[data1['Nationality'] == country][['Name','Position','Overall',\n",
    "                    'Potential']].sort_values(by = 'Overall',\n",
    "                            ascending = False).head(15).style.background_gradient(cmap = 'magma')"
   ]
  },
  {
   "cell_type": "code",
   "execution_count": null,
   "id": "580a3146-d0cd-4d56-9a31-bebc99ffc31d",
   "metadata": {},
   "outputs": [],
   "source": [
    "# top 15 players from each club\n",
    "\n",
    "@interact\n",
    "def club(club = list(data1['Club'].value_counts().index[1:])):\n",
    "    return data1[data1['Club'] == club][['Name','Position','Overall','Nationality','Age']].sort_values(by = 'Overall',\n",
    "                                ascending  = False).head(15).style.background_gradient(cmap = 'inferno')"
   ]
  },
  {
   "cell_type": "code",
   "execution_count": null,
   "id": "b1f26a43-02fc-4480-a80c-c5e4ff61396f",
   "metadata": {},
   "outputs": [],
   "source": [
    "# youngest players\n",
    "\n",
    "youngest = data1[data1['Age'] == 16][['Name', 'Age', 'Club', 'Nationality', 'Overall']]\n",
    "youngest.sort_values(by = 'Overall', ascending = False).head().style.background_gradient(cmap = 'magma')"
   ]
  },
  {
   "cell_type": "code",
   "execution_count": null,
   "id": "d419ae4f-77ee-4954-9544-8a346f782da5",
   "metadata": {},
   "outputs": [],
   "source": [
    "# Oldest players\n",
    "\n",
    "data.sort_values('Age', ascending = False)[['Name', 'Age', 'Club',\n",
    "                              'Nationality', 'Overall']].head(15).style.background_gradient(cmap = 'Wistia')"
   ]
  },
  {
   "cell_type": "code",
   "execution_count": null,
   "id": "6f36e517-28ae-42b5-ab82-de732cbbbec5",
   "metadata": {},
   "outputs": [],
   "source": [
    "#  top 3 best player features needeed for each position\n",
    "\n",
    "player_features = ('Acceleration', 'Aggression', 'Agility', \n",
    "                   'Balance', 'BallControl', 'Composure', \n",
    "                   'Crossing', 'Dribbling', 'FKAccuracy', \n",
    "                   'Finishing', 'GKDiving', 'GKHandling', \n",
    "                   'GKKicking', 'GKPositioning', 'GKReflexes', \n",
    "                   'HeadingAccuracy', 'Interceptions', 'Jumping', \n",
    "                   'LongPassing', 'LongShots', 'Marking', 'Penalties')\n",
    "\n",
    "for i, val in data1.groupby(data1['Position'])[player_features].mean().iterrows():\n",
    "    print('Position {}: {}, {}, {}'.format(i, *tuple(val.nlargest(3).index)))\n",
    "\n"
   ]
  },
  {
   "cell_type": "code",
   "execution_count": null,
   "id": "1778d4ce-f4c6-428c-86ac-0c3783e37220",
   "metadata": {},
   "outputs": [],
   "source": [
    "# performance comparison between left footed and right footed players regarding ball control vs dribbling\n",
    "\n",
    "sns.lmplot(x = 'BallControl', y = 'Dribbling', data = data1, col = 'Preferred Foot')\n",
    "plt.show()"
   ]
  },
  {
   "cell_type": "code",
   "execution_count": null,
   "id": "b4d68300-ac1f-4979-9f33-12fc380b3e36",
   "metadata": {},
   "outputs": [],
   "source": [
    "# Clubsides with the Highest PLayers out on loan\n",
    "# release_clause = data.loc[: ,['Name','Release Clause','Overall']]\n",
    "# release_clause['Release Clause'] = release_clause['Release Clause'].str.strip('€')\n",
    "# release_clause['Release Clause'] = release_clause['Release Clause'].str.strip('M')\n",
    "# release_clause = release_clause[:100]\n",
    "# release_clause['Release Clause'] = release_clause['Release Clause'].astype(float)*1000000 #Since its in millions\n",
    "# release_clause = pd.DataFrame(release_clause.sort_values(by='Release Clause',ascending=False)[:10])\n",
    "# release_clause = release_clause.set_index('Name')\n",
    "# release_clause"
   ]
  },
  {
   "cell_type": "code",
   "execution_count": null,
   "id": "28adc1c6",
   "metadata": {},
   "outputs": [],
   "source": [
    "#analysis overall performance and age with respect to preferred foot\n",
    "#plt.rcParams['figure.figsize'] = (20, 7)\n",
    "plt.figure(figsize=(20,12))\n",
    "sns.boxenplot(data1[\"Age\"],data1[\"Overall\"],hue=data1[\"Preferred Foot\"])\n",
    "plt.title(\"Players age vs overall performance wrt preferred foot\",fontsize=40)\n",
    "plt.xticks(fontsize=20)\n",
    "plt.yticks(fontsize=20)\n",
    "plt.xlabel(\"Players age\",fontsize=20)\n",
    "plt.ylabel(\"Overall\",fontsize=20)\n",
    "plt.show()"
   ]
  },
  {
   "cell_type": "code",
   "execution_count": null,
   "id": "30651ed3",
   "metadata": {},
   "outputs": [],
   "source": []
  },
  {
   "cell_type": "code",
   "execution_count": null,
   "id": "87ea8708",
   "metadata": {},
   "outputs": [],
   "source": []
  },
  {
   "cell_type": "code",
   "execution_count": null,
   "id": "dad7b6de",
   "metadata": {},
   "outputs": [],
   "source": [
    "cols = ['Age','Overall','Potential','Acceleration','SprintSpeed',\"Agility\",\"Stamina\",'Strength','Preferred Foot']\n",
    "df_small = data[cols]\n",
    "df_small.head()"
   ]
  },
  {
   "cell_type": "code",
   "execution_count": null,
   "id": "bd39546e",
   "metadata": {},
   "outputs": [],
   "source": [
    "#analysis these col wrt preferred foot\n",
    "sns.pairplot(df_small,hue=\"Preferred Foot\")"
   ]
  },
  {
   "cell_type": "markdown",
   "id": "7419813c",
   "metadata": {},
   "source": [
    "# Feature Engineering\n",
    "\n",
    "Feature engineering is the process of using domain knowledge to extract features from raw data. The motivation is to use these extra features to improve the quality of results from a machine learning process, compared with supplying only the raw data to the machine learning process."
   ]
  },
  {
   "cell_type": "code",
   "execution_count": null,
   "id": "81cbd36d",
   "metadata": {},
   "outputs": [],
   "source": [
    "#dropping the unnecceary columns \n",
    "data=data.drop(data.columns[20:46],axis=1)\n",
    "col=[\"Name\",\"Club\",\"Contract Valid Until\",\"Preferred Foot\"]\n",
    "data=data.drop(col,axis=1)\n",
    "data.shape"
   ]
  },
  {
   "cell_type": "code",
   "execution_count": null,
   "id": "56b73c69",
   "metadata": {},
   "outputs": [],
   "source": [
    "#impute the missing values\n",
    "#we have only 1 missing values column = (Position coluumns)\n",
    "data[\"Position\"].fillna(\"Unknown\",inplace=True)"
   ]
  },
  {
   "cell_type": "code",
   "execution_count": null,
   "id": "14837e77",
   "metadata": {},
   "outputs": [],
   "source": [
    "df = data.copy()\n",
    "df.head()"
   ]
  },
  {
   "cell_type": "code",
   "execution_count": null,
   "id": "4454801d",
   "metadata": {},
   "outputs": [],
   "source": [
    "#get a count of nationalities in the dataset,make of list on those with over 250 players .\n",
    "nationalities_count=df[\"Nationality\"].value_counts()\n",
    "nat_list=nationalities_count[nationalities_count>250].index.tolist()\n",
    "\n",
    "def majorNation(data):\n",
    "    if (data[\"Nationality\"] in nat_list):\n",
    "        return 1\n",
    "    else:\n",
    "        return 0\n",
    "df[\"major_nation\"]=df.apply(majorNation,axis=1)\n",
    "\n",
    "#encode preferred foot col into numerical.\n",
    "# df=pd.get_dummies(df,columns=[\"Preferred Foot\"], drop_first=True)\n",
    "\n",
    "#Create a simplified position varaible to account for all player positions.\n",
    "def simple_position(df):\n",
    "    if (df['Position'] == 'GK'):\n",
    "        return 'GK'\n",
    "    elif ((df['Position'] == 'RB') | (df['Position'] == 'LB') | (df['Position'] == 'CB') | (df['Position'] == 'LCB') | (df['Position'] == 'RCB') | (df['Position'] == 'RWB') | (df['Position'] == 'LWB') ):\n",
    "        return 'DF'\n",
    "    elif ((df['Position'] == 'LDM') | (df['Position'] == 'CDM') | (df['Position'] == 'RDM')):\n",
    "        return 'DM'\n",
    "    elif ((df['Position'] == 'LM') | (df['Position'] == 'LCM') | (df['Position'] == 'CM') | (df['Position'] == 'RCM') | (df['Position'] == 'RM')):\n",
    "        return 'MF'\n",
    "    elif ((df['Position'] == 'LAM') | (df['Position'] == 'CAM') | (df['Position'] == 'RAM') | (df['Position'] == 'LW') | (df['Position'] == 'RW')):\n",
    "        return 'AM'\n",
    "    elif ((df['Position'] == 'RS') | (df['Position'] == 'ST') | (df['Position'] == 'LS') | (df['Position'] == 'CF') | (df['Position'] == 'LF') | (df['Position'] == 'RF')):\n",
    "        return 'ST'\n",
    "    else:\n",
    "        return df.Position\n",
    "    \n",
    "df['Simple_Position'] = df.apply(simple_position,axis = 1)\n",
    "\n",
    "#encode simple position col into numerical.\n",
    "df=pd.get_dummies(df,columns=[\"Simple_Position\"], drop_first=True)"
   ]
  },
  {
   "cell_type": "code",
   "execution_count": null,
   "id": "ff83b4f4",
   "metadata": {},
   "outputs": [],
   "source": [
    "#Split the Work Rate Column in two\n",
    "tempwork = df[\"Work Rate\"].str.split(\"/ \",expand=True) \n",
    "\n",
    "#Create new columns for first and secoend work rate\n",
    "df[\"WorkRate1\"]= tempwork[0]   \n",
    "df[\"WorkRate2\"]= tempwork[1]\n",
    "#encode workrate1 and workRate2 columns into numerical.\n",
    "df=pd.get_dummies(df,columns=[\"WorkRate1\"], drop_first=True)\n",
    "df=pd.get_dummies(df,columns=[\"WorkRate2\"], drop_first=True)\n",
    "\n",
    "df=df.drop([\"Nationality\",'Body Type','Position',\"Work Rate\"],axis=1)"
   ]
  },
  {
   "cell_type": "code",
   "execution_count": null,
   "id": "92a7ed18",
   "metadata": {},
   "outputs": [],
   "source": [
    "df.head()"
   ]
  },
  {
   "cell_type": "code",
   "execution_count": null,
   "id": "64cb394e",
   "metadata": {},
   "outputs": [],
   "source": [
    "#get the features and terget columns \n",
    "y=df.Value\n",
    "X=df.drop([\"Value\"],axis=1)"
   ]
  },
  {
   "cell_type": "markdown",
   "id": "ac09143c",
   "metadata": {},
   "source": [
    "# Model Building\n",
    "### importing important Libraries"
   ]
  },
  {
   "cell_type": "code",
   "execution_count": null,
   "id": "76f0fbd2",
   "metadata": {},
   "outputs": [],
   "source": [
    "from sklearn.metrics import r2_score,mean_absolute_error,mean_squared_error\n",
    "from sklearn.preprocessing import LabelEncoder,OneHotEncoder,OrdinalEncoder,StandardScaler,MinMaxScaler,PowerTransformer,FunctionTransformer\n",
    "from sklearn.model_selection import train_test_split,cross_val_score\n",
    "from sklearn.linear_model import LinearRegression\n",
    "from sklearn.ensemble import AdaBoostRegressor,GradientBoostingRegressor,RandomForestRegressor\n",
    "from sklearn.neighbors import KNeighborsRegressor\n",
    "from xgboost import XGBRegressor\n",
    "from mlxtend.feature_selection import ExhaustiveFeatureSelector,SequentialFeatureSelector\n",
    "from sklearn.feature_selection import mutual_info_regression,SelectKBest"
   ]
  },
  {
   "cell_type": "markdown",
   "id": "7d7466af",
   "metadata": {},
   "source": [
    "#### splitting up the data into test and train sets"
   ]
  },
  {
   "cell_type": "code",
   "execution_count": null,
   "id": "ec5806c5",
   "metadata": {},
   "outputs": [],
   "source": [
    "#train test split  \n",
    "x_train,x_test,y_train,y_test=train_test_split(X,y,test_size=0.2,random_state=42)\n",
    "print(\"X_train shape: \",x_train.shape)\n",
    "print(\"X_test shape: \",x_test.shape)\n",
    "print()\n",
    "print(\"Y_train shape: \",y_train.shape)\n",
    "print(\"Y_test shape: \",y_test.shape)"
   ]
  },
  {
   "cell_type": "code",
   "execution_count": null,
   "id": "1f5d3067",
   "metadata": {},
   "outputs": [],
   "source": [
    "x_train"
   ]
  },
  {
   "cell_type": "markdown",
   "id": "2214a490",
   "metadata": {},
   "source": [
    "#### Data Scaling"
   ]
  },
  {
   "cell_type": "code",
   "execution_count": null,
   "id": "39236d3d",
   "metadata": {},
   "outputs": [],
   "source": [
    "# Using standard scaler\n",
    "sc=StandardScaler()\n",
    "x_train_scaled=sc.fit_transform(x_train)\n",
    "x_test_scaled=sc.transform(x_test)\n",
    "\n",
    "x_train = pd.DataFrame(x_train_scaled, columns = x_train.columns[:])\n",
    "x_test = pd.DataFrame(x_test_scaled, columns = x_test.columns[:])\n",
    "x_train.head()"
   ]
  },
  {
   "cell_type": "markdown",
   "id": "ab2d781e",
   "metadata": {},
   "source": [
    "#### Features Selection"
   ]
  },
  {
   "cell_type": "code",
   "execution_count": null,
   "id": "4847c08e",
   "metadata": {},
   "outputs": [],
   "source": [
    "#Mutual information Gain\n",
    "mutual=SelectKBest(mutual_info_regression,k=15).fit(x_train,y_train)\n",
    "mutual"
   ]
  },
  {
   "cell_type": "code",
   "execution_count": null,
   "id": "d8efaf0f",
   "metadata": {},
   "outputs": [],
   "source": [
    "#convert into dataframe and check the top 15 features\n",
    "fetures=pd.DataFrame({\"features\":list(x_train.columns),\"Score\":mutual.scores_})\n",
    "new=fetures.sort_values(\"Score\",ascending=False)\n",
    "new.head(15)"
   ]
  },
  {
   "cell_type": "code",
   "execution_count": null,
   "id": "c00c1a51",
   "metadata": {},
   "outputs": [],
   "source": [
    "#get the top features using the mutual information gain.\n",
    "xtrain=mutual.transform(x_train)\n",
    "xtest=mutual.transform(x_test)\n",
    "xtrain[0:3]"
   ]
  },
  {
   "cell_type": "markdown",
   "id": "4ca4abb3",
   "metadata": {},
   "source": [
    "# Creating model\n",
    "- we will train the following models to predict the \"Value\"\n",
    "- Gradient Boosting Classifier\n",
    "- Random Forest\n",
    "- XGBoost"
   ]
  },
  {
   "cell_type": "code",
   "execution_count": null,
   "id": "f0be094a",
   "metadata": {},
   "outputs": [],
   "source": [
    "#this function used to evalute the models with features and terget.\n",
    "def models_score(models, x_train, x_test, y_train, y_test):    \n",
    "    scores = {}\n",
    "    for name, model in models.items():\n",
    "        model.fit(x_train, y_train)\n",
    "        y_pred=model.predict(x_test) \n",
    "        scores[name] =r2_score(y_test,y_pred)\n",
    "        #printing the model name and accuracy !!!!!\n",
    "        print(\"Model name: \",model)\n",
    "        print(\"Model Predictions: \",y_pred)\n",
    "        print(\"R2 score :--->>\",r2_score(y_test,y_pred))\n",
    "        print(\"MSE\",mean_squared_error(y_test,y_pred))\n",
    "        print(\"MAE\",mean_absolute_error(y_test,y_pred))\n",
    "        print(\"\\n<<<<------------------------------------------------------------->>>>\\n\")\n",
    "           \n",
    "   \n",
    "    model_scores = pd.DataFrame(scores, index=['Score']).transpose()\n",
    "    model_scores = model_scores.sort_values('Score',ascending=False)\n",
    "    return model_scores"
   ]
  },
  {
   "cell_type": "code",
   "execution_count": null,
   "id": "532e3678",
   "metadata": {},
   "outputs": [],
   "source": [
    "#initialize the models \n",
    "models = {\"GradiantBoost\":GradientBoostingRegressor(random_state=42),\n",
    "         \"RandomForest\":RandomForestRegressor(random_state=42),\n",
    "         \"XGBboost\":XGBRegressor()}"
   ]
  },
  {
   "cell_type": "code",
   "execution_count": null,
   "id": "3c3736e2",
   "metadata": {},
   "outputs": [],
   "source": []
  },
  {
   "cell_type": "markdown",
   "id": "2ee13395",
   "metadata": {},
   "source": [
    "# Accuracy of the models\n",
    "- following is shown the accuracy of\n",
    "- Gradient Boosting Classifier\n",
    "- Random Forest\n",
    "- XGBoost"
   ]
  },
  {
   "cell_type": "code",
   "execution_count": null,
   "id": "4be13b76",
   "metadata": {},
   "outputs": [],
   "source": [
    "#Calling the function\n",
    "model_scores = models_score(models, x_train, x_test, y_train, y_test)"
   ]
  },
  {
   "cell_type": "code",
   "execution_count": null,
   "id": "1f5fbf77",
   "metadata": {},
   "outputs": [],
   "source": [
    "#printing the model score\n",
    "model_scores"
   ]
  },
  {
   "cell_type": "markdown",
   "id": "b93d826c",
   "metadata": {},
   "source": [
    "#### Comparison of accuracies by visualizing "
   ]
  },
  {
   "cell_type": "code",
   "execution_count": null,
   "id": "e5d10ae9",
   "metadata": {},
   "outputs": [],
   "source": [
    "model_scores = model_scores.reset_index().rename({\"index\":\"Algorithms\"}, axis = 1)\n",
    "\n",
    "model_scores.style.bar()"
   ]
  },
  {
   "cell_type": "code",
   "execution_count": null,
   "id": "e9a5d36c",
   "metadata": {},
   "outputs": [],
   "source": [
    "import plotly.express as px\n",
    "import plotly.graph_objs as go\n",
    "#pie plot \n",
    "label = model_scores['Algorithms']\n",
    "value = model_scores['Score']\n",
    "\n",
    "fig = go.Figure(data=[go.Pie(labels = label, values = value, rotation = 90)])\n",
    "\n",
    "fig.update_traces(textposition='inside',\n",
    "                  textinfo='percent+label',\n",
    "                  marker=dict(line=dict(color='#000000', width = 1.5)))\n",
    "\n",
    "fig.update_layout(title_x=0.5,\n",
    "                  title_font=dict(size=20),\n",
    "                  uniformtext_minsize=15)\n",
    "\n",
    "fig.show()"
   ]
  },
  {
   "cell_type": "code",
   "execution_count": null,
   "id": "29bbc6ea",
   "metadata": {},
   "outputs": [],
   "source": [
    "fig = px.bar(data_frame = model_scores,\n",
    "             x=\"Algorithms\",\n",
    "             y=\"Score\",\n",
    "             color=\"Algorithms\", title = \"<b>Models Score</b>\", template = 'plotly_dark')\n",
    "\n",
    "fig.update_layout(bargap=0.2)\n",
    "\n",
    "fig.show()"
   ]
  },
  {
   "cell_type": "markdown",
   "id": "72bf42c4",
   "metadata": {},
   "source": [
    "# END"
   ]
  }
 ],
 "metadata": {
  "kernelspec": {
   "display_name": "Python 3",
   "language": "python",
   "name": "python3"
  },
  "language_info": {
   "codemirror_mode": {
    "name": "ipython",
    "version": 3
   },
   "file_extension": ".py",
   "mimetype": "text/x-python",
   "name": "python",
   "nbconvert_exporter": "python",
   "pygments_lexer": "ipython3",
   "version": "3.8.8"
  },
  "widgets": {
   "application/vnd.jupyter.widget-state+json": {
    "state": {},
    "version_major": 2,
    "version_minor": 0
   }
  }
 },
 "nbformat": 4,
 "nbformat_minor": 5
}
